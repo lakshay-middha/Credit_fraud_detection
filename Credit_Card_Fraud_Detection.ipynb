{
  "nbformat": 4,
  "nbformat_minor": 0,
  "metadata": {
    "colab": {
      "name": "Credit_Card_Fraud_Detection.ipynb",
      "provenance": [],
      "collapsed_sections": []
    },
    "kernelspec": {
      "name": "python3",
      "display_name": "Python 3"
    }
  },
  "cells": [
    {
      "cell_type": "code",
      "metadata": {
        "id": "G0Imx7ikLkC7"
      },
      "source": [
        "import os\n",
        "os.chdir('drive/MyDrive')"
      ],
      "execution_count": 2,
      "outputs": []
    },
    {
      "cell_type": "code",
      "metadata": {
        "id": "YIi0TC2WXdg4"
      },
      "source": [
        "import pandas as pd\n",
        "data = pd.read_csv('creditcard.csv')"
      ],
      "execution_count": 3,
      "outputs": []
    },
    {
      "cell_type": "code",
      "metadata": {
        "colab": {
          "base_uri": "https://localhost:8080/",
          "height": 232
        },
        "id": "ZJipGmsYYBj3",
        "outputId": "1d776c6b-771c-4ad4-ffa1-06cba7a068d8"
      },
      "source": [
        "print(data.shape)\n",
        "data.head()"
      ],
      "execution_count": 4,
      "outputs": [
        {
          "output_type": "stream",
          "text": [
            "(284807, 31)\n"
          ],
          "name": "stdout"
        },
        {
          "output_type": "execute_result",
          "data": {
            "text/html": [
              "<div>\n",
              "<style scoped>\n",
              "    .dataframe tbody tr th:only-of-type {\n",
              "        vertical-align: middle;\n",
              "    }\n",
              "\n",
              "    .dataframe tbody tr th {\n",
              "        vertical-align: top;\n",
              "    }\n",
              "\n",
              "    .dataframe thead th {\n",
              "        text-align: right;\n",
              "    }\n",
              "</style>\n",
              "<table border=\"1\" class=\"dataframe\">\n",
              "  <thead>\n",
              "    <tr style=\"text-align: right;\">\n",
              "      <th></th>\n",
              "      <th>Time</th>\n",
              "      <th>V1</th>\n",
              "      <th>V2</th>\n",
              "      <th>V3</th>\n",
              "      <th>V4</th>\n",
              "      <th>V5</th>\n",
              "      <th>V6</th>\n",
              "      <th>V7</th>\n",
              "      <th>V8</th>\n",
              "      <th>V9</th>\n",
              "      <th>V10</th>\n",
              "      <th>V11</th>\n",
              "      <th>V12</th>\n",
              "      <th>V13</th>\n",
              "      <th>V14</th>\n",
              "      <th>V15</th>\n",
              "      <th>V16</th>\n",
              "      <th>V17</th>\n",
              "      <th>V18</th>\n",
              "      <th>V19</th>\n",
              "      <th>V20</th>\n",
              "      <th>V21</th>\n",
              "      <th>V22</th>\n",
              "      <th>V23</th>\n",
              "      <th>V24</th>\n",
              "      <th>V25</th>\n",
              "      <th>V26</th>\n",
              "      <th>V27</th>\n",
              "      <th>V28</th>\n",
              "      <th>Amount</th>\n",
              "      <th>Class</th>\n",
              "    </tr>\n",
              "  </thead>\n",
              "  <tbody>\n",
              "    <tr>\n",
              "      <th>0</th>\n",
              "      <td>0.0</td>\n",
              "      <td>-1.359807</td>\n",
              "      <td>-0.072781</td>\n",
              "      <td>2.536347</td>\n",
              "      <td>1.378155</td>\n",
              "      <td>-0.338321</td>\n",
              "      <td>0.462388</td>\n",
              "      <td>0.239599</td>\n",
              "      <td>0.098698</td>\n",
              "      <td>0.363787</td>\n",
              "      <td>0.090794</td>\n",
              "      <td>-0.551600</td>\n",
              "      <td>-0.617801</td>\n",
              "      <td>-0.991390</td>\n",
              "      <td>-0.311169</td>\n",
              "      <td>1.468177</td>\n",
              "      <td>-0.470401</td>\n",
              "      <td>0.207971</td>\n",
              "      <td>0.025791</td>\n",
              "      <td>0.403993</td>\n",
              "      <td>0.251412</td>\n",
              "      <td>-0.018307</td>\n",
              "      <td>0.277838</td>\n",
              "      <td>-0.110474</td>\n",
              "      <td>0.066928</td>\n",
              "      <td>0.128539</td>\n",
              "      <td>-0.189115</td>\n",
              "      <td>0.133558</td>\n",
              "      <td>-0.021053</td>\n",
              "      <td>149.62</td>\n",
              "      <td>0</td>\n",
              "    </tr>\n",
              "    <tr>\n",
              "      <th>1</th>\n",
              "      <td>0.0</td>\n",
              "      <td>1.191857</td>\n",
              "      <td>0.266151</td>\n",
              "      <td>0.166480</td>\n",
              "      <td>0.448154</td>\n",
              "      <td>0.060018</td>\n",
              "      <td>-0.082361</td>\n",
              "      <td>-0.078803</td>\n",
              "      <td>0.085102</td>\n",
              "      <td>-0.255425</td>\n",
              "      <td>-0.166974</td>\n",
              "      <td>1.612727</td>\n",
              "      <td>1.065235</td>\n",
              "      <td>0.489095</td>\n",
              "      <td>-0.143772</td>\n",
              "      <td>0.635558</td>\n",
              "      <td>0.463917</td>\n",
              "      <td>-0.114805</td>\n",
              "      <td>-0.183361</td>\n",
              "      <td>-0.145783</td>\n",
              "      <td>-0.069083</td>\n",
              "      <td>-0.225775</td>\n",
              "      <td>-0.638672</td>\n",
              "      <td>0.101288</td>\n",
              "      <td>-0.339846</td>\n",
              "      <td>0.167170</td>\n",
              "      <td>0.125895</td>\n",
              "      <td>-0.008983</td>\n",
              "      <td>0.014724</td>\n",
              "      <td>2.69</td>\n",
              "      <td>0</td>\n",
              "    </tr>\n",
              "    <tr>\n",
              "      <th>2</th>\n",
              "      <td>1.0</td>\n",
              "      <td>-1.358354</td>\n",
              "      <td>-1.340163</td>\n",
              "      <td>1.773209</td>\n",
              "      <td>0.379780</td>\n",
              "      <td>-0.503198</td>\n",
              "      <td>1.800499</td>\n",
              "      <td>0.791461</td>\n",
              "      <td>0.247676</td>\n",
              "      <td>-1.514654</td>\n",
              "      <td>0.207643</td>\n",
              "      <td>0.624501</td>\n",
              "      <td>0.066084</td>\n",
              "      <td>0.717293</td>\n",
              "      <td>-0.165946</td>\n",
              "      <td>2.345865</td>\n",
              "      <td>-2.890083</td>\n",
              "      <td>1.109969</td>\n",
              "      <td>-0.121359</td>\n",
              "      <td>-2.261857</td>\n",
              "      <td>0.524980</td>\n",
              "      <td>0.247998</td>\n",
              "      <td>0.771679</td>\n",
              "      <td>0.909412</td>\n",
              "      <td>-0.689281</td>\n",
              "      <td>-0.327642</td>\n",
              "      <td>-0.139097</td>\n",
              "      <td>-0.055353</td>\n",
              "      <td>-0.059752</td>\n",
              "      <td>378.66</td>\n",
              "      <td>0</td>\n",
              "    </tr>\n",
              "    <tr>\n",
              "      <th>3</th>\n",
              "      <td>1.0</td>\n",
              "      <td>-0.966272</td>\n",
              "      <td>-0.185226</td>\n",
              "      <td>1.792993</td>\n",
              "      <td>-0.863291</td>\n",
              "      <td>-0.010309</td>\n",
              "      <td>1.247203</td>\n",
              "      <td>0.237609</td>\n",
              "      <td>0.377436</td>\n",
              "      <td>-1.387024</td>\n",
              "      <td>-0.054952</td>\n",
              "      <td>-0.226487</td>\n",
              "      <td>0.178228</td>\n",
              "      <td>0.507757</td>\n",
              "      <td>-0.287924</td>\n",
              "      <td>-0.631418</td>\n",
              "      <td>-1.059647</td>\n",
              "      <td>-0.684093</td>\n",
              "      <td>1.965775</td>\n",
              "      <td>-1.232622</td>\n",
              "      <td>-0.208038</td>\n",
              "      <td>-0.108300</td>\n",
              "      <td>0.005274</td>\n",
              "      <td>-0.190321</td>\n",
              "      <td>-1.175575</td>\n",
              "      <td>0.647376</td>\n",
              "      <td>-0.221929</td>\n",
              "      <td>0.062723</td>\n",
              "      <td>0.061458</td>\n",
              "      <td>123.50</td>\n",
              "      <td>0</td>\n",
              "    </tr>\n",
              "    <tr>\n",
              "      <th>4</th>\n",
              "      <td>2.0</td>\n",
              "      <td>-1.158233</td>\n",
              "      <td>0.877737</td>\n",
              "      <td>1.548718</td>\n",
              "      <td>0.403034</td>\n",
              "      <td>-0.407193</td>\n",
              "      <td>0.095921</td>\n",
              "      <td>0.592941</td>\n",
              "      <td>-0.270533</td>\n",
              "      <td>0.817739</td>\n",
              "      <td>0.753074</td>\n",
              "      <td>-0.822843</td>\n",
              "      <td>0.538196</td>\n",
              "      <td>1.345852</td>\n",
              "      <td>-1.119670</td>\n",
              "      <td>0.175121</td>\n",
              "      <td>-0.451449</td>\n",
              "      <td>-0.237033</td>\n",
              "      <td>-0.038195</td>\n",
              "      <td>0.803487</td>\n",
              "      <td>0.408542</td>\n",
              "      <td>-0.009431</td>\n",
              "      <td>0.798278</td>\n",
              "      <td>-0.137458</td>\n",
              "      <td>0.141267</td>\n",
              "      <td>-0.206010</td>\n",
              "      <td>0.502292</td>\n",
              "      <td>0.219422</td>\n",
              "      <td>0.215153</td>\n",
              "      <td>69.99</td>\n",
              "      <td>0</td>\n",
              "    </tr>\n",
              "  </tbody>\n",
              "</table>\n",
              "</div>"
            ],
            "text/plain": [
              "   Time        V1        V2        V3  ...       V27       V28  Amount  Class\n",
              "0   0.0 -1.359807 -0.072781  2.536347  ...  0.133558 -0.021053  149.62      0\n",
              "1   0.0  1.191857  0.266151  0.166480  ... -0.008983  0.014724    2.69      0\n",
              "2   1.0 -1.358354 -1.340163  1.773209  ... -0.055353 -0.059752  378.66      0\n",
              "3   1.0 -0.966272 -0.185226  1.792993  ...  0.062723  0.061458  123.50      0\n",
              "4   2.0 -1.158233  0.877737  1.548718  ...  0.219422  0.215153   69.99      0\n",
              "\n",
              "[5 rows x 31 columns]"
            ]
          },
          "metadata": {
            "tags": []
          },
          "execution_count": 4
        }
      ]
    },
    {
      "cell_type": "code",
      "metadata": {
        "colab": {
          "base_uri": "https://localhost:8080/",
          "height": 214
        },
        "id": "UQ02mCjwclem",
        "outputId": "6e6c93cf-1cd9-4ce8-90c0-0eedc815ba9f"
      },
      "source": [
        "data.tail()"
      ],
      "execution_count": 5,
      "outputs": [
        {
          "output_type": "execute_result",
          "data": {
            "text/html": [
              "<div>\n",
              "<style scoped>\n",
              "    .dataframe tbody tr th:only-of-type {\n",
              "        vertical-align: middle;\n",
              "    }\n",
              "\n",
              "    .dataframe tbody tr th {\n",
              "        vertical-align: top;\n",
              "    }\n",
              "\n",
              "    .dataframe thead th {\n",
              "        text-align: right;\n",
              "    }\n",
              "</style>\n",
              "<table border=\"1\" class=\"dataframe\">\n",
              "  <thead>\n",
              "    <tr style=\"text-align: right;\">\n",
              "      <th></th>\n",
              "      <th>Time</th>\n",
              "      <th>V1</th>\n",
              "      <th>V2</th>\n",
              "      <th>V3</th>\n",
              "      <th>V4</th>\n",
              "      <th>V5</th>\n",
              "      <th>V6</th>\n",
              "      <th>V7</th>\n",
              "      <th>V8</th>\n",
              "      <th>V9</th>\n",
              "      <th>V10</th>\n",
              "      <th>V11</th>\n",
              "      <th>V12</th>\n",
              "      <th>V13</th>\n",
              "      <th>V14</th>\n",
              "      <th>V15</th>\n",
              "      <th>V16</th>\n",
              "      <th>V17</th>\n",
              "      <th>V18</th>\n",
              "      <th>V19</th>\n",
              "      <th>V20</th>\n",
              "      <th>V21</th>\n",
              "      <th>V22</th>\n",
              "      <th>V23</th>\n",
              "      <th>V24</th>\n",
              "      <th>V25</th>\n",
              "      <th>V26</th>\n",
              "      <th>V27</th>\n",
              "      <th>V28</th>\n",
              "      <th>Amount</th>\n",
              "      <th>Class</th>\n",
              "    </tr>\n",
              "  </thead>\n",
              "  <tbody>\n",
              "    <tr>\n",
              "      <th>284802</th>\n",
              "      <td>172786.0</td>\n",
              "      <td>-11.881118</td>\n",
              "      <td>10.071785</td>\n",
              "      <td>-9.834783</td>\n",
              "      <td>-2.066656</td>\n",
              "      <td>-5.364473</td>\n",
              "      <td>-2.606837</td>\n",
              "      <td>-4.918215</td>\n",
              "      <td>7.305334</td>\n",
              "      <td>1.914428</td>\n",
              "      <td>4.356170</td>\n",
              "      <td>-1.593105</td>\n",
              "      <td>2.711941</td>\n",
              "      <td>-0.689256</td>\n",
              "      <td>4.626942</td>\n",
              "      <td>-0.924459</td>\n",
              "      <td>1.107641</td>\n",
              "      <td>1.991691</td>\n",
              "      <td>0.510632</td>\n",
              "      <td>-0.682920</td>\n",
              "      <td>1.475829</td>\n",
              "      <td>0.213454</td>\n",
              "      <td>0.111864</td>\n",
              "      <td>1.014480</td>\n",
              "      <td>-0.509348</td>\n",
              "      <td>1.436807</td>\n",
              "      <td>0.250034</td>\n",
              "      <td>0.943651</td>\n",
              "      <td>0.823731</td>\n",
              "      <td>0.77</td>\n",
              "      <td>0</td>\n",
              "    </tr>\n",
              "    <tr>\n",
              "      <th>284803</th>\n",
              "      <td>172787.0</td>\n",
              "      <td>-0.732789</td>\n",
              "      <td>-0.055080</td>\n",
              "      <td>2.035030</td>\n",
              "      <td>-0.738589</td>\n",
              "      <td>0.868229</td>\n",
              "      <td>1.058415</td>\n",
              "      <td>0.024330</td>\n",
              "      <td>0.294869</td>\n",
              "      <td>0.584800</td>\n",
              "      <td>-0.975926</td>\n",
              "      <td>-0.150189</td>\n",
              "      <td>0.915802</td>\n",
              "      <td>1.214756</td>\n",
              "      <td>-0.675143</td>\n",
              "      <td>1.164931</td>\n",
              "      <td>-0.711757</td>\n",
              "      <td>-0.025693</td>\n",
              "      <td>-1.221179</td>\n",
              "      <td>-1.545556</td>\n",
              "      <td>0.059616</td>\n",
              "      <td>0.214205</td>\n",
              "      <td>0.924384</td>\n",
              "      <td>0.012463</td>\n",
              "      <td>-1.016226</td>\n",
              "      <td>-0.606624</td>\n",
              "      <td>-0.395255</td>\n",
              "      <td>0.068472</td>\n",
              "      <td>-0.053527</td>\n",
              "      <td>24.79</td>\n",
              "      <td>0</td>\n",
              "    </tr>\n",
              "    <tr>\n",
              "      <th>284804</th>\n",
              "      <td>172788.0</td>\n",
              "      <td>1.919565</td>\n",
              "      <td>-0.301254</td>\n",
              "      <td>-3.249640</td>\n",
              "      <td>-0.557828</td>\n",
              "      <td>2.630515</td>\n",
              "      <td>3.031260</td>\n",
              "      <td>-0.296827</td>\n",
              "      <td>0.708417</td>\n",
              "      <td>0.432454</td>\n",
              "      <td>-0.484782</td>\n",
              "      <td>0.411614</td>\n",
              "      <td>0.063119</td>\n",
              "      <td>-0.183699</td>\n",
              "      <td>-0.510602</td>\n",
              "      <td>1.329284</td>\n",
              "      <td>0.140716</td>\n",
              "      <td>0.313502</td>\n",
              "      <td>0.395652</td>\n",
              "      <td>-0.577252</td>\n",
              "      <td>0.001396</td>\n",
              "      <td>0.232045</td>\n",
              "      <td>0.578229</td>\n",
              "      <td>-0.037501</td>\n",
              "      <td>0.640134</td>\n",
              "      <td>0.265745</td>\n",
              "      <td>-0.087371</td>\n",
              "      <td>0.004455</td>\n",
              "      <td>-0.026561</td>\n",
              "      <td>67.88</td>\n",
              "      <td>0</td>\n",
              "    </tr>\n",
              "    <tr>\n",
              "      <th>284805</th>\n",
              "      <td>172788.0</td>\n",
              "      <td>-0.240440</td>\n",
              "      <td>0.530483</td>\n",
              "      <td>0.702510</td>\n",
              "      <td>0.689799</td>\n",
              "      <td>-0.377961</td>\n",
              "      <td>0.623708</td>\n",
              "      <td>-0.686180</td>\n",
              "      <td>0.679145</td>\n",
              "      <td>0.392087</td>\n",
              "      <td>-0.399126</td>\n",
              "      <td>-1.933849</td>\n",
              "      <td>-0.962886</td>\n",
              "      <td>-1.042082</td>\n",
              "      <td>0.449624</td>\n",
              "      <td>1.962563</td>\n",
              "      <td>-0.608577</td>\n",
              "      <td>0.509928</td>\n",
              "      <td>1.113981</td>\n",
              "      <td>2.897849</td>\n",
              "      <td>0.127434</td>\n",
              "      <td>0.265245</td>\n",
              "      <td>0.800049</td>\n",
              "      <td>-0.163298</td>\n",
              "      <td>0.123205</td>\n",
              "      <td>-0.569159</td>\n",
              "      <td>0.546668</td>\n",
              "      <td>0.108821</td>\n",
              "      <td>0.104533</td>\n",
              "      <td>10.00</td>\n",
              "      <td>0</td>\n",
              "    </tr>\n",
              "    <tr>\n",
              "      <th>284806</th>\n",
              "      <td>172792.0</td>\n",
              "      <td>-0.533413</td>\n",
              "      <td>-0.189733</td>\n",
              "      <td>0.703337</td>\n",
              "      <td>-0.506271</td>\n",
              "      <td>-0.012546</td>\n",
              "      <td>-0.649617</td>\n",
              "      <td>1.577006</td>\n",
              "      <td>-0.414650</td>\n",
              "      <td>0.486180</td>\n",
              "      <td>-0.915427</td>\n",
              "      <td>-1.040458</td>\n",
              "      <td>-0.031513</td>\n",
              "      <td>-0.188093</td>\n",
              "      <td>-0.084316</td>\n",
              "      <td>0.041333</td>\n",
              "      <td>-0.302620</td>\n",
              "      <td>-0.660377</td>\n",
              "      <td>0.167430</td>\n",
              "      <td>-0.256117</td>\n",
              "      <td>0.382948</td>\n",
              "      <td>0.261057</td>\n",
              "      <td>0.643078</td>\n",
              "      <td>0.376777</td>\n",
              "      <td>0.008797</td>\n",
              "      <td>-0.473649</td>\n",
              "      <td>-0.818267</td>\n",
              "      <td>-0.002415</td>\n",
              "      <td>0.013649</td>\n",
              "      <td>217.00</td>\n",
              "      <td>0</td>\n",
              "    </tr>\n",
              "  </tbody>\n",
              "</table>\n",
              "</div>"
            ],
            "text/plain": [
              "            Time         V1         V2  ...       V28  Amount  Class\n",
              "284802  172786.0 -11.881118  10.071785  ...  0.823731    0.77      0\n",
              "284803  172787.0  -0.732789  -0.055080  ... -0.053527   24.79      0\n",
              "284804  172788.0   1.919565  -0.301254  ... -0.026561   67.88      0\n",
              "284805  172788.0  -0.240440   0.530483  ...  0.104533   10.00      0\n",
              "284806  172792.0  -0.533413  -0.189733  ...  0.013649  217.00      0\n",
              "\n",
              "[5 rows x 31 columns]"
            ]
          },
          "metadata": {
            "tags": []
          },
          "execution_count": 5
        }
      ]
    },
    {
      "cell_type": "markdown",
      "metadata": {
        "id": "y3WhVUl_YNvj"
      },
      "source": [
        "## About the Dataset\n",
        "The datasets contains transactions made by credit cards in September 2013 by european cardholders.\n",
        "This dataset presents transactions that occurred in two days, where we have 492 frauds out of 284,807 transactions. The dataset is highly unbalanced, the positive class (frauds) account for 0.172% of all transactions.\n",
        "\n",
        "It contains only numerical input variables which are the result of a PCA transformation. Unfortunately, due to confidentiality issues, we cannot provide the original features and more background information about the data. Features V1, V2, … V28 are the principal components obtained with PCA, the only features which have not been transformed with PCA are 'Time' and 'Amount'. Feature 'Time' contains the seconds elapsed between each transaction and the first transaction in the dataset. The feature 'Amount' is the transaction Amount, this feature can be used for example-dependant cost-senstive learning. Feature 'Class' is the response variable and it takes value 1 in case of fraud and 0 otherwise."
      ]
    },
    {
      "cell_type": "markdown",
      "metadata": {
        "id": "ASAc1cuFYd6z"
      },
      "source": [
        "The data can be found at: [https://www.kaggle.com/mlg-ulb/creditcardfraud](https://)"
      ]
    },
    {
      "cell_type": "code",
      "metadata": {
        "id": "7XInWspQYEa1"
      },
      "source": [
        "import seaborn as sns\n",
        "import numpy as np\n",
        "import matplotlib.pyplot as plt"
      ],
      "execution_count": 6,
      "outputs": []
    },
    {
      "cell_type": "code",
      "metadata": {
        "id": "iiq2afxDcTFj"
      },
      "source": [
        "fraud = data.loc[data['Class'] == 1]\n",
        "normal = data.loc[data['Class'] == 0]"
      ],
      "execution_count": 7,
      "outputs": []
    },
    {
      "cell_type": "code",
      "metadata": {
        "colab": {
          "base_uri": "https://localhost:8080/"
        },
        "id": "ka2Czrmoc0BG",
        "outputId": "83093887-23f2-4549-ccd6-05b4aaf2ab27"
      },
      "source": [
        "print(len(fraud))\n",
        "print(len(normal))"
      ],
      "execution_count": 8,
      "outputs": [
        {
          "output_type": "stream",
          "text": [
            "492\n",
            "284315\n"
          ],
          "name": "stdout"
        }
      ]
    },
    {
      "cell_type": "code",
      "metadata": {
        "colab": {
          "base_uri": "https://localhost:8080/",
          "height": 401
        },
        "id": "ctUSIWIjc1xG",
        "outputId": "8832a8d9-37fe-4443-ac51-aeb36b665106"
      },
      "source": [
        "sns.relplot(x = 'Amount', y = 'Time',hue = 'Class', data = data)"
      ],
      "execution_count": 9,
      "outputs": [
        {
          "output_type": "execute_result",
          "data": {
            "text/plain": [
              "<seaborn.axisgrid.FacetGrid at 0x7ff216f64750>"
            ]
          },
          "metadata": {
            "tags": []
          },
          "execution_count": 9
        },
        {
          "output_type": "display_data",
          "data": {
            "image/png": "[encoded data removed]",
            "text/plain": [
              "<Figure size 402.375x360 with 1 Axes>"
            ]
          },
          "metadata": {
            "tags": [],
            "needs_background": "light"
          }
        }
      ]
    },
    {
      "cell_type": "code",
      "metadata": {
        "id": "FV8Iww-Udx2F",
        "colab": {
          "base_uri": "https://localhost:8080/"
        },
        "outputId": "1e6b47fa-8b9a-44c1-be0f-19f9c537ae72"
      },
      "source": [
        "print(\"Mean of amounts column: {}\".format(data['Amount'].mean()))\n",
        "print(\"Count of null values: {}\".format(data['Amount'].isnull().sum()))\n",
        "print(\"percentage of fraud transcations: {} %\".format(100*len(data[data['Class'] == 1])/len(data['Class'])))"
      ],
      "execution_count": 10,
      "outputs": [
        {
          "output_type": "stream",
          "text": [
            "Mean of amounts column: 88.34961925087359\n",
            "Count of null values: 0\n",
            "percentage of fraud transcations: 0.1727485630620034 %\n"
          ],
          "name": "stdout"
        }
      ]
    },
    {
      "cell_type": "code",
      "metadata": {
        "id": "yQDoUXn5eD_m",
        "colab": {
          "base_uri": "https://localhost:8080/",
          "height": 351
        },
        "outputId": "f303f002-08b7-4ac6-a1c1-924309035fde"
      },
      "source": [
        "sns.countplot('Class', data= data)\n",
        "plt.title('Class Distribution')\n",
        "plt.show()"
      ],
      "execution_count": 11,
      "outputs": [
        {
          "output_type": "stream",
          "text": [
            "/usr/local/lib/python3.7/dist-packages/seaborn/_decorators.py:43: FutureWarning: Pass the following variable as a keyword arg: x. From version 0.12, the only valid positional argument will be `data`, and passing other arguments without an explicit keyword will result in an error or misinterpretation.\n",
            "  FutureWarning\n"
          ],
          "name": "stderr"
        },
        {
          "output_type": "display_data",
          "data": {
            "image/png": "[encoded data removed]",
            "text/plain": [
              "<Figure size 432x288 with 1 Axes>"
            ]
          },
          "metadata": {
            "tags": [],
            "needs_background": "light"
          }
        }
      ]
    },
    {
      "cell_type": "code",
      "metadata": {
        "colab": {
          "base_uri": "https://localhost:8080/",
          "height": 281
        },
        "id": "4wJRJmtsycjz",
        "outputId": "0a60939b-b69d-43df-9206-97b8ec21ce0d"
      },
      "source": [
        "amt_val = data['Amount'].values\n",
        "time_val = data['Time'].values\n",
        "\n",
        "\n",
        "sns.histplot(data = data, x = amt_val , color = 'r',stat = 'count')\n",
        "plt.title('Distribution of Transaction Amount')\n",
        "plt.xlim([min(amt_val),max(amt_val)])\n",
        "plt.ylim([0,10000])\n",
        "plt.show()"
      ],
      "execution_count": 12,
      "outputs": [
        {
          "output_type": "display_data",
          "data": {
            "image/png": "[encoded data removed]",
            "text/plain": [
              "<Figure size 432x288 with 1 Axes>"
            ]
          },
          "metadata": {
            "tags": [],
            "needs_background": "light"
          }
        }
      ]
    },
    {
      "cell_type": "code",
      "metadata": {
        "colab": {
          "base_uri": "https://localhost:8080/",
          "height": 281
        },
        "id": "5K7V206xycmD",
        "outputId": "856a43c6-cf32-4e4c-b7ce-7525ba534267"
      },
      "source": [
        "sns.histplot(data = data, x = time_val , color = 'r')\n",
        "plt.title('Distribution of Transaction time')\n",
        "plt.xlim([min(time_val),max(time_val)])\n",
        "plt.show()"
      ],
      "execution_count": 13,
      "outputs": [
        {
          "output_type": "display_data",
          "data": {
            "image/png": "[encoded data removed]",
            "text/plain": [
              "<Figure size 432x288 with 1 Axes>"
            ]
          },
          "metadata": {
            "tags": [],
            "needs_background": "light"
          }
        }
      ]
    },
    {
      "cell_type": "markdown",
      "metadata": {
        "id": "9C1Co21DPdPI"
      },
      "source": [
        "## Scaling and Distributing"
      ]
    },
    {
      "cell_type": "code",
      "metadata": {
        "id": "ZmhiyeYsycqg"
      },
      "source": [
        "from sklearn.preprocessing import RobustScaler\n",
        "scaler = RobustScaler()\n",
        "data['Amount'] = scaler.fit_transform(data['Amount'].values.reshape(-1,1))\n",
        "data['Time'] = scaler.fit_transform(data['Time'].values.reshape(-1,1))"
      ],
      "execution_count": 14,
      "outputs": []
    },
    {
      "cell_type": "code",
      "metadata": {
        "colab": {
          "base_uri": "https://localhost:8080/",
          "height": 214
        },
        "id": "0pjdAf3Vycs7",
        "outputId": "7b2d41b4-7b66-41b5-b773-eda2fb0a8282"
      },
      "source": [
        "data.head()\n",
        "# the time and amount columns are scaled"
      ],
      "execution_count": 15,
      "outputs": [
        {
          "output_type": "execute_result",
          "data": {
            "text/html": [
              "<div>\n",
              "<style scoped>\n",
              "    .dataframe tbody tr th:only-of-type {\n",
              "        vertical-align: middle;\n",
              "    }\n",
              "\n",
              "    .dataframe tbody tr th {\n",
              "        vertical-align: top;\n",
              "    }\n",
              "\n",
              "    .dataframe thead th {\n",
              "        text-align: right;\n",
              "    }\n",
              "</style>\n",
              "<table border=\"1\" class=\"dataframe\">\n",
              "  <thead>\n",
              "    <tr style=\"text-align: right;\">\n",
              "      <th></th>\n",
              "      <th>Time</th>\n",
              "      <th>V1</th>\n",
              "      <th>V2</th>\n",
              "      <th>V3</th>\n",
              "      <th>V4</th>\n",
              "      <th>V5</th>\n",
              "      <th>V6</th>\n",
              "      <th>V7</th>\n",
              "      <th>V8</th>\n",
              "      <th>V9</th>\n",
              "      <th>V10</th>\n",
              "      <th>V11</th>\n",
              "      <th>V12</th>\n",
              "      <th>V13</th>\n",
              "      <th>V14</th>\n",
              "      <th>V15</th>\n",
              "      <th>V16</th>\n",
              "      <th>V17</th>\n",
              "      <th>V18</th>\n",
              "      <th>V19</th>\n",
              "      <th>V20</th>\n",
              "      <th>V21</th>\n",
              "      <th>V22</th>\n",
              "      <th>V23</th>\n",
              "      <th>V24</th>\n",
              "      <th>V25</th>\n",
              "      <th>V26</th>\n",
              "      <th>V27</th>\n",
              "      <th>V28</th>\n",
              "      <th>Amount</th>\n",
              "      <th>Class</th>\n",
              "    </tr>\n",
              "  </thead>\n",
              "  <tbody>\n",
              "    <tr>\n",
              "      <th>0</th>\n",
              "      <td>-0.994983</td>\n",
              "      <td>-1.359807</td>\n",
              "      <td>-0.072781</td>\n",
              "      <td>2.536347</td>\n",
              "      <td>1.378155</td>\n",
              "      <td>-0.338321</td>\n",
              "      <td>0.462388</td>\n",
              "      <td>0.239599</td>\n",
              "      <td>0.098698</td>\n",
              "      <td>0.363787</td>\n",
              "      <td>0.090794</td>\n",
              "      <td>-0.551600</td>\n",
              "      <td>-0.617801</td>\n",
              "      <td>-0.991390</td>\n",
              "      <td>-0.311169</td>\n",
              "      <td>1.468177</td>\n",
              "      <td>-0.470401</td>\n",
              "      <td>0.207971</td>\n",
              "      <td>0.025791</td>\n",
              "      <td>0.403993</td>\n",
              "      <td>0.251412</td>\n",
              "      <td>-0.018307</td>\n",
              "      <td>0.277838</td>\n",
              "      <td>-0.110474</td>\n",
              "      <td>0.066928</td>\n",
              "      <td>0.128539</td>\n",
              "      <td>-0.189115</td>\n",
              "      <td>0.133558</td>\n",
              "      <td>-0.021053</td>\n",
              "      <td>1.783274</td>\n",
              "      <td>0</td>\n",
              "    </tr>\n",
              "    <tr>\n",
              "      <th>1</th>\n",
              "      <td>-0.994983</td>\n",
              "      <td>1.191857</td>\n",
              "      <td>0.266151</td>\n",
              "      <td>0.166480</td>\n",
              "      <td>0.448154</td>\n",
              "      <td>0.060018</td>\n",
              "      <td>-0.082361</td>\n",
              "      <td>-0.078803</td>\n",
              "      <td>0.085102</td>\n",
              "      <td>-0.255425</td>\n",
              "      <td>-0.166974</td>\n",
              "      <td>1.612727</td>\n",
              "      <td>1.065235</td>\n",
              "      <td>0.489095</td>\n",
              "      <td>-0.143772</td>\n",
              "      <td>0.635558</td>\n",
              "      <td>0.463917</td>\n",
              "      <td>-0.114805</td>\n",
              "      <td>-0.183361</td>\n",
              "      <td>-0.145783</td>\n",
              "      <td>-0.069083</td>\n",
              "      <td>-0.225775</td>\n",
              "      <td>-0.638672</td>\n",
              "      <td>0.101288</td>\n",
              "      <td>-0.339846</td>\n",
              "      <td>0.167170</td>\n",
              "      <td>0.125895</td>\n",
              "      <td>-0.008983</td>\n",
              "      <td>0.014724</td>\n",
              "      <td>-0.269825</td>\n",
              "      <td>0</td>\n",
              "    </tr>\n",
              "    <tr>\n",
              "      <th>2</th>\n",
              "      <td>-0.994972</td>\n",
              "      <td>-1.358354</td>\n",
              "      <td>-1.340163</td>\n",
              "      <td>1.773209</td>\n",
              "      <td>0.379780</td>\n",
              "      <td>-0.503198</td>\n",
              "      <td>1.800499</td>\n",
              "      <td>0.791461</td>\n",
              "      <td>0.247676</td>\n",
              "      <td>-1.514654</td>\n",
              "      <td>0.207643</td>\n",
              "      <td>0.624501</td>\n",
              "      <td>0.066084</td>\n",
              "      <td>0.717293</td>\n",
              "      <td>-0.165946</td>\n",
              "      <td>2.345865</td>\n",
              "      <td>-2.890083</td>\n",
              "      <td>1.109969</td>\n",
              "      <td>-0.121359</td>\n",
              "      <td>-2.261857</td>\n",
              "      <td>0.524980</td>\n",
              "      <td>0.247998</td>\n",
              "      <td>0.771679</td>\n",
              "      <td>0.909412</td>\n",
              "      <td>-0.689281</td>\n",
              "      <td>-0.327642</td>\n",
              "      <td>-0.139097</td>\n",
              "      <td>-0.055353</td>\n",
              "      <td>-0.059752</td>\n",
              "      <td>4.983721</td>\n",
              "      <td>0</td>\n",
              "    </tr>\n",
              "    <tr>\n",
              "      <th>3</th>\n",
              "      <td>-0.994972</td>\n",
              "      <td>-0.966272</td>\n",
              "      <td>-0.185226</td>\n",
              "      <td>1.792993</td>\n",
              "      <td>-0.863291</td>\n",
              "      <td>-0.010309</td>\n",
              "      <td>1.247203</td>\n",
              "      <td>0.237609</td>\n",
              "      <td>0.377436</td>\n",
              "      <td>-1.387024</td>\n",
              "      <td>-0.054952</td>\n",
              "      <td>-0.226487</td>\n",
              "      <td>0.178228</td>\n",
              "      <td>0.507757</td>\n",
              "      <td>-0.287924</td>\n",
              "      <td>-0.631418</td>\n",
              "      <td>-1.059647</td>\n",
              "      <td>-0.684093</td>\n",
              "      <td>1.965775</td>\n",
              "      <td>-1.232622</td>\n",
              "      <td>-0.208038</td>\n",
              "      <td>-0.108300</td>\n",
              "      <td>0.005274</td>\n",
              "      <td>-0.190321</td>\n",
              "      <td>-1.175575</td>\n",
              "      <td>0.647376</td>\n",
              "      <td>-0.221929</td>\n",
              "      <td>0.062723</td>\n",
              "      <td>0.061458</td>\n",
              "      <td>1.418291</td>\n",
              "      <td>0</td>\n",
              "    </tr>\n",
              "    <tr>\n",
              "      <th>4</th>\n",
              "      <td>-0.994960</td>\n",
              "      <td>-1.158233</td>\n",
              "      <td>0.877737</td>\n",
              "      <td>1.548718</td>\n",
              "      <td>0.403034</td>\n",
              "      <td>-0.407193</td>\n",
              "      <td>0.095921</td>\n",
              "      <td>0.592941</td>\n",
              "      <td>-0.270533</td>\n",
              "      <td>0.817739</td>\n",
              "      <td>0.753074</td>\n",
              "      <td>-0.822843</td>\n",
              "      <td>0.538196</td>\n",
              "      <td>1.345852</td>\n",
              "      <td>-1.119670</td>\n",
              "      <td>0.175121</td>\n",
              "      <td>-0.451449</td>\n",
              "      <td>-0.237033</td>\n",
              "      <td>-0.038195</td>\n",
              "      <td>0.803487</td>\n",
              "      <td>0.408542</td>\n",
              "      <td>-0.009431</td>\n",
              "      <td>0.798278</td>\n",
              "      <td>-0.137458</td>\n",
              "      <td>0.141267</td>\n",
              "      <td>-0.206010</td>\n",
              "      <td>0.502292</td>\n",
              "      <td>0.219422</td>\n",
              "      <td>0.215153</td>\n",
              "      <td>0.670579</td>\n",
              "      <td>0</td>\n",
              "    </tr>\n",
              "  </tbody>\n",
              "</table>\n",
              "</div>"
            ],
            "text/plain": [
              "       Time        V1        V2        V3  ...       V27       V28    Amount  Class\n",
              "0 -0.994983 -1.359807 -0.072781  2.536347  ...  0.133558 -0.021053  1.783274      0\n",
              "1 -0.994983  1.191857  0.266151  0.166480  ... -0.008983  0.014724 -0.269825      0\n",
              "2 -0.994972 -1.358354 -1.340163  1.773209  ... -0.055353 -0.059752  4.983721      0\n",
              "3 -0.994972 -0.966272 -0.185226  1.792993  ...  0.062723  0.061458  1.418291      0\n",
              "4 -0.994960 -1.158233  0.877737  1.548718  ...  0.219422  0.215153  0.670579      0\n",
              "\n",
              "[5 rows x 31 columns]"
            ]
          },
          "metadata": {
            "tags": []
          },
          "execution_count": 15
        }
      ]
    },
    {
      "cell_type": "code",
      "metadata": {
        "id": "GkDhIHC8ycvC"
      },
      "source": [
        "from sklearn.model_selection import train_test_split\n",
        "from sklearn.model_selection import StratifiedShuffleSplit\n",
        "\n",
        "X = data.iloc[:,:-1]\n",
        "y = data.iloc[:,-1]\n",
        "\n",
        "sss = StratifiedShuffleSplit(n_splits = 5, random_state = None)"
      ],
      "execution_count": 16,
      "outputs": []
    },
    {
      "cell_type": "code",
      "metadata": {
        "id": "f-rhAcEmbFAZ"
      },
      "source": [
        "for train_idx, test_idx in sss.split(X,y):\n",
        "  org_Xtrain, org_Xtest = X.iloc[train_idx],X.iloc[test_idx]\n",
        "  org_ytrain, org_ytest = y.iloc[train_idx],y.iloc[test_idx]  "
      ],
      "execution_count": 17,
      "outputs": []
    },
    {
      "cell_type": "code",
      "metadata": {
        "id": "EQ_rZjzrycxk"
      },
      "source": [
        "# to check if training set and the testing set is distributed with the same percentage\n",
        "# of +ve and -ve samples\n",
        "org_Xtrain = org_Xtrain.values\n",
        "org_Xtest = org_Xtest.values\n",
        "org_ytrain = org_ytrain.values\n",
        "org_ytest = org_ytest.values"
      ],
      "execution_count": 18,
      "outputs": []
    },
    {
      "cell_type": "code",
      "metadata": {
        "colab": {
          "base_uri": "https://localhost:8080/"
        },
        "id": "aZhYhAxebE04",
        "outputId": "b30bf9f9-df2f-4f5c-be79-5d3463993aad"
      },
      "source": [
        "train_cnts = np.unique(org_ytrain, return_counts=True)[1]\n",
        "test_cnts = np.unique(org_ytest, return_counts=True)[1]\n",
        "\n",
        "print(\"Ratio for training set is : {}\".format(100*train_cnts[1]/(sum(train_cnts))))\n",
        "print(\"Ratio for testing set is : {}\".format(100*test_cnts[1]/(sum(test_cnts))))"
      ],
      "execution_count": 19,
      "outputs": [
        {
          "output_type": "stream",
          "text": [
            "Ratio for training set is : 0.17282679088348432\n",
            "Ratio for testing set is : 0.17204452090867595\n"
          ],
          "name": "stdout"
        }
      ]
    },
    {
      "cell_type": "markdown",
      "metadata": {
        "id": "Z8Vxc7jPjOQE"
      },
      "source": [
        "## Random Under Sampling"
      ]
    },
    {
      "cell_type": "code",
      "metadata": {
        "id": "oWk_8T7DyczW",
        "colab": {
          "base_uri": "https://localhost:8080/",
          "height": 214
        },
        "outputId": "91189c95-5440-4a6c-a530-a3f8ce523d6f"
      },
      "source": [
        "# creating a balanced dataset\n",
        "\n",
        "#shuffling data\n",
        "data = data.sample(frac = 1)\n",
        "\n",
        "fraud_trans = data.loc[data['Class'] == 1]\n",
        "non_fraud_trans = data.loc[data['Class'] == 0][:fraud_trans.shape[0]]\n",
        "\n",
        "df = pd.concat([fraud_trans, non_fraud_trans])\n",
        "\n",
        "df = df.sample(frac = 1)\n",
        "df.head()"
      ],
      "execution_count": 20,
      "outputs": [
        {
          "output_type": "execute_result",
          "data": {
            "text/html": [
              "<div>\n",
              "<style scoped>\n",
              "    .dataframe tbody tr th:only-of-type {\n",
              "        vertical-align: middle;\n",
              "    }\n",
              "\n",
              "    .dataframe tbody tr th {\n",
              "        vertical-align: top;\n",
              "    }\n",
              "\n",
              "    .dataframe thead th {\n",
              "        text-align: right;\n",
              "    }\n",
              "</style>\n",
              "<table border=\"1\" class=\"dataframe\">\n",
              "  <thead>\n",
              "    <tr style=\"text-align: right;\">\n",
              "      <th></th>\n",
              "      <th>Time</th>\n",
              "      <th>V1</th>\n",
              "      <th>V2</th>\n",
              "      <th>V3</th>\n",
              "      <th>V4</th>\n",
              "      <th>V5</th>\n",
              "      <th>V6</th>\n",
              "      <th>V7</th>\n",
              "      <th>V8</th>\n",
              "      <th>V9</th>\n",
              "      <th>V10</th>\n",
              "      <th>V11</th>\n",
              "      <th>V12</th>\n",
              "      <th>V13</th>\n",
              "      <th>V14</th>\n",
              "      <th>V15</th>\n",
              "      <th>V16</th>\n",
              "      <th>V17</th>\n",
              "      <th>V18</th>\n",
              "      <th>V19</th>\n",
              "      <th>V20</th>\n",
              "      <th>V21</th>\n",
              "      <th>V22</th>\n",
              "      <th>V23</th>\n",
              "      <th>V24</th>\n",
              "      <th>V25</th>\n",
              "      <th>V26</th>\n",
              "      <th>V27</th>\n",
              "      <th>V28</th>\n",
              "      <th>Amount</th>\n",
              "      <th>Class</th>\n",
              "    </tr>\n",
              "  </thead>\n",
              "  <tbody>\n",
              "    <tr>\n",
              "      <th>213116</th>\n",
              "      <td>0.639399</td>\n",
              "      <td>-3.975939</td>\n",
              "      <td>-1.244939</td>\n",
              "      <td>-3.707414</td>\n",
              "      <td>4.544772</td>\n",
              "      <td>4.050676</td>\n",
              "      <td>-3.407679</td>\n",
              "      <td>-5.063118</td>\n",
              "      <td>1.007042</td>\n",
              "      <td>-3.190158</td>\n",
              "      <td>-4.250717</td>\n",
              "      <td>4.182162</td>\n",
              "      <td>-4.563675</td>\n",
              "      <td>1.182503</td>\n",
              "      <td>-6.964972</td>\n",
              "      <td>1.115340</td>\n",
              "      <td>-4.997332</td>\n",
              "      <td>-6.419539</td>\n",
              "      <td>-1.183593</td>\n",
              "      <td>3.569733</td>\n",
              "      <td>2.109403</td>\n",
              "      <td>1.059737</td>\n",
              "      <td>-0.037395</td>\n",
              "      <td>0.348707</td>\n",
              "      <td>-0.162929</td>\n",
              "      <td>0.410531</td>\n",
              "      <td>-0.123612</td>\n",
              "      <td>0.877424</td>\n",
              "      <td>0.667568</td>\n",
              "      <td>-0.191434</td>\n",
              "      <td>1</td>\n",
              "    </tr>\n",
              "    <tr>\n",
              "      <th>76689</th>\n",
              "      <td>-0.328845</td>\n",
              "      <td>0.894047</td>\n",
              "      <td>-0.088961</td>\n",
              "      <td>0.816240</td>\n",
              "      <td>1.471662</td>\n",
              "      <td>-0.848833</td>\n",
              "      <td>-0.960875</td>\n",
              "      <td>0.194649</td>\n",
              "      <td>-0.236176</td>\n",
              "      <td>-0.062260</td>\n",
              "      <td>-0.065993</td>\n",
              "      <td>0.250945</td>\n",
              "      <td>0.897485</td>\n",
              "      <td>0.951858</td>\n",
              "      <td>0.097327</td>\n",
              "      <td>0.973355</td>\n",
              "      <td>0.185295</td>\n",
              "      <td>-0.407139</td>\n",
              "      <td>-0.355453</td>\n",
              "      <td>-0.722835</td>\n",
              "      <td>0.204394</td>\n",
              "      <td>0.055551</td>\n",
              "      <td>-0.111830</td>\n",
              "      <td>-0.039957</td>\n",
              "      <td>0.933830</td>\n",
              "      <td>0.319871</td>\n",
              "      <td>-0.530666</td>\n",
              "      <td>0.013312</td>\n",
              "      <td>0.064450</td>\n",
              "      <td>1.788584</td>\n",
              "      <td>0</td>\n",
              "    </tr>\n",
              "    <tr>\n",
              "      <th>121245</th>\n",
              "      <td>-0.100671</td>\n",
              "      <td>-0.939581</td>\n",
              "      <td>1.232830</td>\n",
              "      <td>-1.042020</td>\n",
              "      <td>-1.549936</td>\n",
              "      <td>2.282419</td>\n",
              "      <td>3.017251</td>\n",
              "      <td>-0.199861</td>\n",
              "      <td>1.320181</td>\n",
              "      <td>-0.223912</td>\n",
              "      <td>-0.385472</td>\n",
              "      <td>-0.229380</td>\n",
              "      <td>-0.095763</td>\n",
              "      <td>-0.079638</td>\n",
              "      <td>-0.090874</td>\n",
              "      <td>0.591454</td>\n",
              "      <td>1.103890</td>\n",
              "      <td>-0.639760</td>\n",
              "      <td>0.246173</td>\n",
              "      <td>-0.544901</td>\n",
              "      <td>0.095551</td>\n",
              "      <td>-0.268864</td>\n",
              "      <td>-0.999398</td>\n",
              "      <td>0.071478</td>\n",
              "      <td>0.921859</td>\n",
              "      <td>-0.183544</td>\n",
              "      <td>-0.096784</td>\n",
              "      <td>0.116686</td>\n",
              "      <td>0.084175</td>\n",
              "      <td>-0.257668</td>\n",
              "      <td>0</td>\n",
              "    </tr>\n",
              "    <tr>\n",
              "      <th>188475</th>\n",
              "      <td>0.508676</td>\n",
              "      <td>-1.657603</td>\n",
              "      <td>1.155839</td>\n",
              "      <td>-3.023358</td>\n",
              "      <td>-0.427548</td>\n",
              "      <td>0.930045</td>\n",
              "      <td>-0.238899</td>\n",
              "      <td>1.393751</td>\n",
              "      <td>0.356597</td>\n",
              "      <td>-0.434312</td>\n",
              "      <td>0.103558</td>\n",
              "      <td>-0.603149</td>\n",
              "      <td>0.636407</td>\n",
              "      <td>0.287793</td>\n",
              "      <td>1.109098</td>\n",
              "      <td>-0.136642</td>\n",
              "      <td>-1.568290</td>\n",
              "      <td>0.773066</td>\n",
              "      <td>-1.978225</td>\n",
              "      <td>-1.389997</td>\n",
              "      <td>-0.650628</td>\n",
              "      <td>0.585267</td>\n",
              "      <td>2.076620</td>\n",
              "      <td>0.179602</td>\n",
              "      <td>-0.909889</td>\n",
              "      <td>-1.381740</td>\n",
              "      <td>0.372593</td>\n",
              "      <td>-0.765798</td>\n",
              "      <td>-0.247672</td>\n",
              "      <td>0.851114</td>\n",
              "      <td>0</td>\n",
              "    </tr>\n",
              "    <tr>\n",
              "      <th>6971</th>\n",
              "      <td>-0.888497</td>\n",
              "      <td>-3.499108</td>\n",
              "      <td>0.258555</td>\n",
              "      <td>-4.489558</td>\n",
              "      <td>4.853894</td>\n",
              "      <td>-6.974522</td>\n",
              "      <td>3.628382</td>\n",
              "      <td>5.431271</td>\n",
              "      <td>-1.946734</td>\n",
              "      <td>-0.775680</td>\n",
              "      <td>-1.987773</td>\n",
              "      <td>4.690396</td>\n",
              "      <td>-6.998042</td>\n",
              "      <td>1.454012</td>\n",
              "      <td>-3.738023</td>\n",
              "      <td>0.317742</td>\n",
              "      <td>-2.013543</td>\n",
              "      <td>-5.136135</td>\n",
              "      <td>-1.183822</td>\n",
              "      <td>1.663394</td>\n",
              "      <td>-3.042626</td>\n",
              "      <td>-1.052368</td>\n",
              "      <td>0.204817</td>\n",
              "      <td>-2.119007</td>\n",
              "      <td>0.170279</td>\n",
              "      <td>-0.393844</td>\n",
              "      <td>0.296367</td>\n",
              "      <td>1.985913</td>\n",
              "      <td>-0.900452</td>\n",
              "      <td>24.979809</td>\n",
              "      <td>1</td>\n",
              "    </tr>\n",
              "  </tbody>\n",
              "</table>\n",
              "</div>"
            ],
            "text/plain": [
              "            Time        V1        V2  ...       V28     Amount  Class\n",
              "213116  0.639399 -3.975939 -1.244939  ...  0.667568  -0.191434      1\n",
              "76689  -0.328845  0.894047 -0.088961  ...  0.064450   1.788584      0\n",
              "121245 -0.100671 -0.939581  1.232830  ...  0.084175  -0.257668      0\n",
              "188475  0.508676 -1.657603  1.155839  ... -0.247672   0.851114      0\n",
              "6971   -0.888497 -3.499108  0.258555  ... -0.900452  24.979809      1\n",
              "\n",
              "[5 rows x 31 columns]"
            ]
          },
          "metadata": {
            "tags": []
          },
          "execution_count": 20
        }
      ]
    },
    {
      "cell_type": "code",
      "metadata": {
        "colab": {
          "base_uri": "https://localhost:8080/",
          "height": 295
        },
        "id": "-3_0LxHrLmaO",
        "outputId": "4eaf73cc-d893-424f-b20d-5ee97d6293c5"
      },
      "source": [
        "# check if the new dataframe df is equally distributed or not\n",
        "sns.countplot(data = df,x = 'Class')\n",
        "plt.title(\"New Dataframe with Balanced classes\")\n",
        "plt.show()"
      ],
      "execution_count": 21,
      "outputs": [
        {
          "output_type": "display_data",
          "data": {
            "image/png": "[encoded data removed]",
            "text/plain": [
              "<Figure size 432x288 with 1 Axes>"
            ]
          },
          "metadata": {
            "tags": [],
            "needs_background": "light"
          }
        }
      ]
    },
    {
      "cell_type": "code",
      "metadata": {
        "colab": {
          "base_uri": "https://localhost:8080/",
          "height": 516
        },
        "id": "0u0LHkdaLmWo",
        "outputId": "c9e63323-694d-4215-8731-9206e9e37405"
      },
      "source": [
        "# feature correlation\n",
        "\n",
        "plt.figure(figsize = (8,8))\n",
        "sns.heatmap(data.corr(),cmap = 'Reds')\n",
        "plt.show()"
      ],
      "execution_count": 22,
      "outputs": [
        {
          "output_type": "display_data",
          "data": {
            "image/png": "[encoded data removed]",
            "text/plain": [
              "<Figure size 576x576 with 2 Axes>"
            ]
          },
          "metadata": {
            "tags": [],
            "needs_background": "light"
          }
        }
      ]
    },
    {
      "cell_type": "code",
      "metadata": {
        "colab": {
          "base_uri": "https://localhost:8080/",
          "height": 516
        },
        "id": "6AQ3GifjLmVV",
        "outputId": "d3dffbc7-5eff-424e-9ced-6f1a8d1dd4a4"
      },
      "source": [
        "plt.figure(figsize = (8,8))\n",
        "sns.heatmap(df.corr(), cmap='Reds')\n",
        "plt.show()"
      ],
      "execution_count": 23,
      "outputs": [
        {
          "output_type": "display_data",
          "data": {
            "image/png": "[encoded data removed]",
            "text/plain": [
              "<Figure size 576x576 with 2 Axes>"
            ]
          },
          "metadata": {
            "tags": [],
            "needs_background": "light"
          }
        }
      ]
    },
    {
      "cell_type": "code",
      "metadata": {
        "colab": {
          "base_uri": "https://localhost:8080/",
          "height": 493
        },
        "id": "RStzOUn-E9_5",
        "outputId": "1b327cb1-2426-4244-edb7-873d8b5404e2"
      },
      "source": [
        "# features 2, 4, and 11 highly positively correlated with the class\n",
        "# featutes 14, 12, 10 are highly negatively correlated with the class\n",
        "\n",
        "# checking for outliers using Box plot\n",
        "# negatively correlated\n",
        "fig,axes = plt.subplots(1,3, figsize = (15,4))\n",
        "l = [\"V14\",\"V12\", \"V10\"]\n",
        "for i,j in enumerate(l):\n",
        "  plt.suptitle(\"Highly Negative Correlated Features\", fontsize = \"20\")\n",
        "  sns.boxplot(ax = axes[i],data = df,x =\"Class\", y = df[j])\n",
        "\n",
        "# positively correlated features\n",
        "ldash = ['V2','V4','V11']\n",
        "fig,axes = plt.subplots(1,3,figsize = (15,4))\n",
        "fig.suptitle(\"Highly positive Correlated Features\", fontsize = \"20\")\n",
        "for i,j in enumerate(ldash):\n",
        "  #plt.suptitle(\"Highly positive Correlated Features\", fontsize = \"20\")\n",
        "  sns.boxplot(ax = axes[i],data = df,x =\"Class\", y = df[j])\n"
      ],
      "execution_count": 24,
      "outputs": [
        {
          "output_type": "display_data",
          "data": {
            "image/png": "[encoded data removed]",
            "text/plain": [
              "<Figure size 1080x288 with 3 Axes>"
            ]
          },
          "metadata": {
            "tags": [],
            "needs_background": "light"
          }
        },
        {
          "output_type": "display_data",
          "data": {
            "image/png": "[encoded data removed]",
            "text/plain": [
              "<Figure size 1080x288 with 3 Axes>"
            ]
          },
          "metadata": {
            "tags": [],
            "needs_background": "light"
          }
        }
      ]
    },
    {
      "cell_type": "markdown",
      "metadata": {
        "id": "I3H-FL8wV9j0"
      },
      "source": [
        "**From the box plot we can visualize that there are many outliers present in these features. Our aim is to remove the extreme outliers from the features that are highly correlated with the target variable. This will reduces some skewness in the model**"
      ]
    },
    {
      "cell_type": "code",
      "metadata": {
        "colab": {
          "base_uri": "https://localhost:8080/",
          "height": 1000
        },
        "id": "-7vvTv0gktNP",
        "outputId": "827cdd1c-ce69-4968-8dad-e4fca03511dd"
      },
      "source": [
        "# ploting features with negative correlation\n",
        "new_df = df[df['Class'] == 1]\n",
        "plt.figure(figsize = (5,5))\n",
        "sns.displot(data = new_df, \n",
        "            x = new_df['V14'], \n",
        "            kind = 'hist',\n",
        "            kde = True)\n",
        "plt.title('V14 distribution Plot \\n(Fraud Transactions)')\n",
        "plt.show()\n",
        "\n",
        "plt.figure(figsize = (5,5))\n",
        "sns.displot(data = new_df, \n",
        "          x = new_df['V12'], \n",
        "          kind = 'hist',\n",
        "          kde = True)\n",
        "plt.title('V12 distribution Plot \\n(Fraud Transactions)')\n",
        "plt.show()\n",
        "\n",
        "plt.figure(figsize = (5,5))\n",
        "sns.displot(data = new_df, \n",
        "          x = new_df['V10'], \n",
        "          kind = 'hist',\n",
        "          kde = True)\n",
        "plt.title('V10 distribution Plot \\n(Fraud Transactions)')\n",
        "plt.show()"
      ],
      "execution_count": 25,
      "outputs": [
        {
          "output_type": "display_data",
          "data": {
            "text/plain": [
              "<Figure size 360x360 with 0 Axes>"
            ]
          },
          "metadata": {
            "tags": []
          }
        },
        {
          "output_type": "display_data",
          "data": {
            "image/png": "[encoded data removed]",
            "text/plain": [
              "<Figure size 360x360 with 1 Axes>"
            ]
          },
          "metadata": {
            "tags": [],
            "needs_background": "light"
          }
        },
        {
          "output_type": "display_data",
          "data": {
            "text/plain": [
              "<Figure size 360x360 with 0 Axes>"
            ]
          },
          "metadata": {
            "tags": []
          }
        },
        {
          "output_type": "display_data",
          "data": {
            "image/png": "[encoded data removed]",
            "text/plain": [
              "<Figure size 360x360 with 1 Axes>"
            ]
          },
          "metadata": {
            "tags": [],
            "needs_background": "light"
          }
        },
        {
          "output_type": "display_data",
          "data": {
            "text/plain": [
              "<Figure size 360x360 with 0 Axes>"
            ]
          },
          "metadata": {
            "tags": []
          }
        },
        {
          "output_type": "display_data",
          "data": {
            "image/png": "[encoded data removed]",
            "text/plain": [
              "<Figure size 360x360 with 1 Axes>"
            ]
          },
          "metadata": {
            "tags": [],
            "needs_background": "light"
          }
        }
      ]
    },
    {
      "cell_type": "markdown",
      "metadata": {
        "id": "5yzCF7Boajfe"
      },
      "source": [
        "**Using Inter Quartile range method to remove outliers form negatively correlated features**"
      ]
    },
    {
      "cell_type": "code",
      "metadata": {
        "colab": {
          "base_uri": "https://localhost:8080/"
        },
        "id": "Vp4yjFqtE967",
        "outputId": "5b65474e-413d-4715-a8b6-bb2f2a15cf80"
      },
      "source": [
        "# removing outliers from feature V14 with fraud transactions\n",
        "v14_fraud = df[df['Class'] == 1]['V14'].values\n",
        "qtr_25 = np.percentile(v14_fraud, 25)\n",
        "qtr_75 = np.percentile(v14_fraud, 75)\n",
        "iqr = 1.5*(qtr_75 - qtr_25)\n",
        "\n",
        "outliers_14 = [ x for x in v14_fraud if x < (qtr_25 - iqr) or x > (qtr_75 + iqr)]\n",
        "print(\"Number of outliers removed: {}\".format(len(outliers_14)))\n",
        "df = df.drop(df[(df['V14']>qtr_75 + iqr) | (df['V14']<qtr_25-iqr)].index)\n",
        "\n",
        "\n",
        "# removing outliers from feature V12 with fraud transactions\n",
        "v12_fraud = df[df['Class'] == 1]['V12'].values\n",
        "qtr_25 = np.percentile(v14_fraud, 25)\n",
        "qtr_75 = np.percentile(v14_fraud, 75)\n",
        "iqr = 1.5*(qtr_75 - qtr_25)\n",
        "\n",
        "outliers_12 = [ x for x in v12_fraud if x < (qtr_25 - iqr) or x > (qtr_75 + iqr)]\n",
        "print(\"Number of outliers removed: {}\".format(len(outliers_12)))\n",
        "df = df.drop(df[(df['V12']>qtr_75 + iqr) | (df['V12']<qtr_25-iqr)].index)\n",
        "\n",
        "# removing outliers from feature V10 with fraud transactions\n",
        "v10_fraud = df[df['Class'] == 1]['V10'].values\n",
        "qtr_25 = np.percentile(v14_fraud, 25)\n",
        "qtr_75 = np.percentile(v14_fraud, 75)\n",
        "iqr = 1.5*(qtr_75 - qtr_25)\n",
        "\n",
        "outliers_10 = [ x for x in v10_fraud if x < (qtr_25 - iqr) or x > (qtr_75 + iqr)]\n",
        "print(\"Number of outliers removed: {}\".format(len(outliers_10)))\n",
        "df = df.drop(df[(df['V10']>qtr_75 + iqr) | (df['V10']<qtr_25-iqr)].index)\n",
        "\n",
        "print(\"final shape of dataset: {}\".format(df.shape))"
      ],
      "execution_count": 26,
      "outputs": [
        {
          "output_type": "stream",
          "text": [
            "Number of outliers removed: 4\n",
            "Number of outliers removed: 4\n",
            "Number of outliers removed: 12\n",
            "final shape of dataset: (961, 31)\n"
          ],
          "name": "stdout"
        }
      ]
    },
    {
      "cell_type": "code",
      "metadata": {
        "id": "9qOENbVFktH-",
        "colab": {
          "base_uri": "https://localhost:8080/",
          "height": 255
        },
        "outputId": "71ee9a7a-263b-4f8e-9857-445d6b1020fb"
      },
      "source": [
        "# negatively correlated features with fewer outliers\n",
        "fig,axes = plt.subplots(1,3, figsize = (15,4))\n",
        "l = [\"V14\",\"V12\", \"V10\"]\n",
        "for i,j in enumerate(l):\n",
        "  plt.suptitle(\"Highly Negative Correlated Features\", fontsize = \"20\")\n",
        "  sns.boxplot(ax = axes[i],data = df,x =\"Class\", y = df[j])"
      ],
      "execution_count": 27,
      "outputs": [
        {
          "output_type": "display_data",
          "data": {
            "image/png": "[encoded data removed]",
            "text/plain": [
              "<Figure size 1080x288 with 3 Axes>"
            ]
          },
          "metadata": {
            "tags": [],
            "needs_background": "light"
          }
        }
      ]
    },
    {
      "cell_type": "code",
      "metadata": {
        "id": "A6Ub3esmhr1O",
        "colab": {
          "base_uri": "https://localhost:8080/"
        },
        "outputId": "a8b01e28-8415-4798-dfe1-d6aea2887146"
      },
      "source": [
        "df.shape"
      ],
      "execution_count": 28,
      "outputs": [
        {
          "output_type": "execute_result",
          "data": {
            "text/plain": [
              "(961, 31)"
            ]
          },
          "metadata": {
            "tags": []
          },
          "execution_count": 28
        }
      ]
    },
    {
      "cell_type": "markdown",
      "metadata": {
        "id": "ECUpoca2oYSg"
      },
      "source": [
        "## Dimensionality Reduction and Clustering"
      ]
    },
    {
      "cell_type": "code",
      "metadata": {
        "id": "DuwqLLq8LmPJ"
      },
      "source": [
        "from sklearn.decomposition import PCA, TruncatedSVD\n",
        "\n",
        "X = df.iloc[:, :-1]\n",
        "y = df.iloc[:,-1]\n",
        "\n",
        "# PCA implementation\n",
        "temp_pca = PCA(n_components = 2, random_state = 42).fit_transform(X.values)\n",
        "\n",
        "#Truncated SVD\n",
        "temp_svd = TruncatedSVD(n_components=2, algorithm='randomized', random_state=42).fit_transform(X.values)"
      ],
      "execution_count": 29,
      "outputs": []
    },
    {
      "cell_type": "code",
      "metadata": {
        "id": "cq371yTHeEB9",
        "colab": {
          "base_uri": "https://localhost:8080/",
          "height": 356
        },
        "outputId": "e7673d57-d13f-449e-8960-ce4bab5b2821"
      },
      "source": [
        "fig, axes = plt.subplots(1,2, figsize = (10,5))\n",
        "fig.suptitle(\"Clustering Analysis\", fontsize = 15)\n",
        "\n",
        "axes[0].scatter(temp_pca[:,0], temp_pca[:,1], \n",
        "                c = (y == 0), cmap = \"coolwarm\", \n",
        "                label = \"No Fraud\", linewidths = 2)\n",
        "axes[0].scatter(temp_pca[:,0], temp_pca[:,1], \n",
        "                c = (y == 1), cmap = \"coolwarm\", \n",
        "                label = \"Fraud\", linewidths = 2)\n",
        "axes[0].set_title(\"Principal Component Analysis\", fontsize = 10)\n",
        "\n",
        "axes[1].scatter(temp_svd[:,0], temp_svd[:,1], \n",
        "                c = (y == 0), cmap = \"coolwarm\", \n",
        "                label = \"No Fraud\", linewidths = 1,)\n",
        "axes[1].scatter(temp_svd[:,0], temp_svd[:,1], \n",
        "                c = (y == 1), cmap = \"coolwarm\", \n",
        "                label = \"Fraud\", linewidths = 2)\n",
        "axes[1].set_title(\"Truncated Singular Value Decomposition\", fontsize = 10)\n",
        "\n",
        "plt.show()"
      ],
      "execution_count": 30,
      "outputs": [
        {
          "output_type": "display_data",
          "data": {
            "image/png": "[encoded data removed]",
            "text/plain": [
              "<Figure size 720x360 with 2 Axes>"
            ]
          },
          "metadata": {
            "tags": [],
            "needs_background": "light"
          }
        }
      ]
    },
    {
      "cell_type": "markdown",
      "metadata": {
        "id": "bWfot_GGXVo1"
      },
      "source": [
        "## Building Predictive Models"
      ]
    },
    {
      "cell_type": "code",
      "metadata": {
        "colab": {
          "base_uri": "https://localhost:8080/"
        },
        "id": "IYorDOM4XVbQ",
        "outputId": "c1134cb5-fad3-4520-97bd-fa61d72e6764"
      },
      "source": [
        "print(X.shape)\n",
        "print(y.shape)"
      ],
      "execution_count": 31,
      "outputs": [
        {
          "output_type": "stream",
          "text": [
            "(961, 30)\n",
            "(961,)\n"
          ],
          "name": "stdout"
        }
      ]
    },
    {
      "cell_type": "code",
      "metadata": {
        "id": "mSMwVuIGXVYt"
      },
      "source": [
        "from sklearn.model_selection import train_test_split\n",
        "from sklearn.linear_model import LogisticRegression\n",
        "from sklearn.neighbors import KNeighborsClassifier\n",
        "from sklearn.svm import SVC\n",
        "from sklearn.tree import DecisionTreeClassifier\n",
        "from sklearn.ensemble import RandomForestClassifier\n",
        "from sklearn.model_selection import cross_val_score"
      ],
      "execution_count": 32,
      "outputs": []
    },
    {
      "cell_type": "code",
      "metadata": {
        "id": "ymd8tfm0eycW"
      },
      "source": [
        "x_train,x_test,y_train, y_test = train_test_split(X,y,test_size = 0.25, random_state = 42)\n",
        "x_train = x_train.values\n",
        "x_test = x_test.values\n",
        "y_train = y_train.values\n",
        "y_test = y_test.values"
      ],
      "execution_count": 33,
      "outputs": []
    },
    {
      "cell_type": "code",
      "metadata": {
        "colab": {
          "base_uri": "https://localhost:8080/"
        },
        "id": "fKcdezA2YS1E",
        "outputId": "b6169798-5019-4dd9-80f7-94e52f652a29"
      },
      "source": [
        "classifiers = {\n",
        "    \"LogisticsRegression\": LogisticRegression(),\n",
        "    \"KNearest\":KNeighborsClassifier(),\n",
        "    \"Support Vector Classifier\": SVC(),\n",
        "    \"Decision Tree Classifier\": DecisionTreeClassifier()\n",
        "}\n",
        "\n",
        "for key, classifier in classifiers.items():\n",
        "  classifier.fit(x_train,y_train)\n",
        "  training_score = cross_val_score(classifier, x_train,y_train)\n",
        "  testing_score = cross_val_score(classifier, x_test, y_test)\n",
        "\n",
        "  print(\"Classifier: \" ,key)\n",
        "  print(\"Accuracy score on training set: {}\".format(round(training_score.mean(),4)))\n",
        "  print(\"Accuracy score on test set: {}\".format(round(testing_score.mean(),4)))\n",
        "  print(\"-- \"*10)"
      ],
      "execution_count": 34,
      "outputs": [
        {
          "output_type": "stream",
          "text": [
            "Classifier:  LogisticsRegression\n",
            "Accuracy score on training set: 0.9514\n",
            "Accuracy score on test set: 0.892\n",
            "-- -- -- -- -- -- -- -- -- -- \n",
            "Classifier:  KNearest\n",
            "Accuracy score on training set: 0.9375\n",
            "Accuracy score on test set: 0.9005\n",
            "-- -- -- -- -- -- -- -- -- -- \n",
            "Classifier:  Support Vector Classifier\n",
            "Accuracy score on training set: 0.9375\n",
            "Accuracy score on test set: 0.9005\n",
            "-- -- -- -- -- -- -- -- -- -- \n",
            "Classifier:  Decision Tree Classifier\n",
            "Accuracy score on training set: 0.8903\n",
            "Accuracy score on test set: 0.9003\n",
            "-- -- -- -- -- -- -- -- -- -- \n"
          ],
          "name": "stdout"
        }
      ]
    },
    {
      "cell_type": "markdown",
      "metadata": {
        "id": "xydtW2DwdaYz"
      },
      "source": [
        "### Finding optimal Parameters using Grid search "
      ]
    },
    {
      "cell_type": "code",
      "metadata": {
        "id": "9QoWwZAIYSyh"
      },
      "source": [
        "from sklearn.model_selection import GridSearchCV\n",
        "\n",
        "# logistics regression hyper parameters\n",
        "log_reg_hyp = {\"penalty\":['none','l2'], 'C':[0.001, 0.01, 0.1, 1, 10, 100], 'solver':['liblinear', 'lbfgs']}\n",
        "\n",
        "grid_log_reg = GridSearchCV(LogisticRegression(max_iter = 500), log_reg_hyp)\n",
        "grid_log_reg.fit(x_train,y_train)\n",
        "log_reg_best_est = grid_log_reg.best_estimator_\n",
        "\n",
        "# k nearest hyper params\n",
        "k_params = {\"n_neighbors\":list(range(2,5)), \"algorithm\":['auto','ball_tree','kd_tree','brute']}\n",
        "grid_knear = GridSearchCV(KNeighborsClassifier(), k_params)\n",
        "grid_knear.fit(x_train,y_train)\n",
        "knear_best_est = grid_knear.best_estimator_"
      ],
      "execution_count": null,
      "outputs": []
    },
    {
      "cell_type": "code",
      "metadata": {
        "id": "grgq62IbhDip"
      },
      "source": [
        "# SVC hyper params\n",
        "svc_params = {'C': [0.5, 0.7, 0.9, 1], 'kernel': ['rbf', 'poly', 'sigmoid', 'linear']}\n",
        "grid_svc = GridSearchCV(SVC(), svc_params)\n",
        "grid_svc.fit(x_train,y_train)\n",
        "svc_best_est = grid_svc.best_estimator_\n",
        "\n",
        "# Decision Tree params\n",
        "tree_params = {\"criterion\": [\"gini\", \"entropy\"], \"max_depth\": list(range(2,4,1)), \n",
        "              \"min_samples_leaf\": list(range(5,7,1))}\n",
        "grid_tree = GridSearchCV(DecisionTreeClassifier(), tree_params)\n",
        "grid_tree.fit(x_train, y_train)\n",
        "tree_clf_best_est = grid_tree.best_estimator_"
      ],
      "execution_count": 36,
      "outputs": []
    },
    {
      "cell_type": "code",
      "metadata": {
        "colab": {
          "base_uri": "https://localhost:8080/"
        },
        "id": "edGgwyichDqW",
        "outputId": "0a08dc27-b5f8-481d-8fcf-3217a9be870f"
      },
      "source": [
        "best_estimator = {'logistic regression':log_reg_best_est,'k Nearest Neighbor':knear_best_est,\n",
        "                  'SVC':svc_best_est, 'Decision Tree':tree_clf_best_est}\n",
        "for key, value in best_estimator.items():\n",
        "  training_score = cross_val_score(value, x_train, y_train)\n",
        "  testing_score = cross_val_score(value, x_test, y_test)\n",
        "  print(\"Classifier: \", key)\n",
        "  print(\"Accuracy score on training set: {}\".format(round(training_score.mean(),4)))\n",
        "  print(\"Accuracy score on test set: {}\".format(round(testing_score.mean(),4)))\n",
        "  print(\"-- \"*10)"
      ],
      "execution_count": 37,
      "outputs": [
        {
          "output_type": "stream",
          "text": [
            "Classifier:  logistic regression\n",
            "Accuracy score on training set: 0.9528\n",
            "Accuracy score on test set: 0.9003\n",
            "-- -- -- -- -- -- -- -- -- -- \n",
            "Classifier:  k Nearest Neighbor\n",
            "Accuracy score on training set: 0.9417\n",
            "Accuracy score on test set: 0.9088\n",
            "-- -- -- -- -- -- -- -- -- -- \n",
            "Classifier:  SVC\n",
            "Accuracy score on training set: 0.9486\n",
            "Accuracy score on test set: 0.8878\n",
            "-- -- -- -- -- -- -- -- -- -- \n",
            "Classifier:  Decision Tree\n",
            "Accuracy score on training set: 0.9278\n",
            "Accuracy score on test set: 0.9252\n",
            "-- -- -- -- -- -- -- -- -- -- \n"
          ],
          "name": "stdout"
        }
      ]
    },
    {
      "cell_type": "code",
      "metadata": {
        "colab": {
          "base_uri": "https://localhost:8080/"
        },
        "id": "udT8jZiZSq_j",
        "outputId": "b162443b-b84b-411a-9afd-1a6591cbaf02"
      },
      "source": [
        "from sklearn.metrics import roc_curve\n",
        "from sklearn.metrics import roc_auc_score\n",
        "from sklearn.model_selection import cross_val_predict\n",
        "\n",
        "log_reg_pred = cross_val_predict(log_reg_best_est, x_train,y_train, cv = 5)\n",
        "knears_pred = cross_val_predict(knear_best_est, x_train,y_train, cv = 5)\n",
        "svc_pred = cross_val_predict(svc_best_est, x_train,y_train, cv = 5)\n",
        "tree_pred = cross_val_predict(tree_clf_best_est, x_train,y_train, cv = 5)\n",
        "\n",
        "print(\"Logistic Regression ROC accuracy score: {}\".format(roc_auc_score(y_train,log_reg_pred)))\n",
        "print(\"K Nearest Neighbors ROC accuracy score: {}\".format(roc_auc_score(y_train,knears_pred)))\n",
        "print(\"SVC ROC accuracy score: {}\".format(roc_auc_score(y_train,svc_pred)))\n",
        "print(\"Decision Tree ROC accuracy score: {}\".format(roc_auc_score(y_train,tree_pred)))"
      ],
      "execution_count": 40,
      "outputs": [
        {
          "output_type": "stream",
          "text": [
            "Logistic Regression ROC accuracy score: 0.9519836855765665\n",
            "K Nearest Neighbors ROC accuracy score: 0.9406748238783835\n",
            "SVC ROC accuracy score: 0.9480441230997404\n",
            "Decision Tree ROC accuracy score: 0.9266777901371896\n"
          ],
          "name": "stdout"
        }
      ]
    },
    {
      "cell_type": "code",
      "metadata": {
        "colab": {
          "base_uri": "https://localhost:8080/"
        },
        "id": "9osvwIuTSq8Q",
        "outputId": "aefe1611-ec9d-4139-9cc9-ecb6fb124d98"
      },
      "source": [
        "from sklearn.metrics import classification_report\n",
        "print(classification_report(log_reg_pred, y_train))"
      ],
      "execution_count": 42,
      "outputs": [
        {
          "output_type": "stream",
          "text": [
            "              precision    recall  f1-score   support\n",
            "\n",
            "           0       0.98      0.94      0.96       388\n",
            "           1       0.93      0.97      0.95       332\n",
            "\n",
            "    accuracy                           0.95       720\n",
            "   macro avg       0.95      0.95      0.95       720\n",
            "weighted avg       0.95      0.95      0.95       720\n",
            "\n"
          ],
          "name": "stdout"
        }
      ]
    },
    {
      "cell_type": "code",
      "metadata": {
        "colab": {
          "base_uri": "https://localhost:8080/"
        },
        "id": "7P35TomrSq6Z",
        "outputId": "ece30c13-847e-464a-cdae-5b78f28e02b9"
      },
      "source": [
        "temp = log_reg_best_est.predict(x_test)\n",
        "print(classification_report(temp,y_test))"
      ],
      "execution_count": 43,
      "outputs": [
        {
          "output_type": "stream",
          "text": [
            "              precision    recall  f1-score   support\n",
            "\n",
            "           0       0.97      0.88      0.92       129\n",
            "           1       0.87      0.96      0.92       112\n",
            "\n",
            "    accuracy                           0.92       241\n",
            "   macro avg       0.92      0.92      0.92       241\n",
            "weighted avg       0.92      0.92      0.92       241\n",
            "\n"
          ],
          "name": "stdout"
        }
      ]
    },
    {
      "cell_type": "code",
      "metadata": {
        "id": "vNJPkZfrY-Bw"
      },
      "source": [
        ""
      ],
      "execution_count": 44,
      "outputs": []
    },
    {
      "cell_type": "markdown",
      "metadata": {
        "id": "zoIaOWze0_UG"
      },
      "source": [
        "## Undersampling"
      ]
    },
    {
      "cell_type": "code",
      "metadata": {
        "id": "LdAOZcBNhDwI"
      },
      "source": [
        ""
      ],
      "execution_count": null,
      "outputs": []
    },
    {
      "cell_type": "code",
      "metadata": {
        "id": "3AWcg15EggtO"
      },
      "source": [
        ""
      ],
      "execution_count": null,
      "outputs": []
    }
  ]
}